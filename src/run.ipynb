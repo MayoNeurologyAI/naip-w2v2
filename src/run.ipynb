{
 "cells": [
  {
   "attachments": {},
   "cell_type": "markdown",
   "metadata": {},
   "source": [
    "# Wav2vec 2.0\n",
    "\n",
    "We use w2v2 as implemented in [HuggingFace](https://huggingface.co/docs/transformers/model_doc/wav2vec2) and create wrapper classes for finetuning for our specific speech classification task as well as getting embeddings.\n",
    "\n",
    "Authors: Daniela Wiepert"
   ]
  },
  {
   "attachments": {},
   "cell_type": "markdown",
   "metadata": {},
   "source": [
    "To begin, you will need access to google cloud storage bucket and the following packages must be installed on your system \n",
    "\n",
    "* albumentations (may run into issues in AIF)\n",
    "* librosa\n",
    "* torch, torchvision, torchaudio\n",
    "* tqdm\n",
    "* transformers\n",
    "* pyarrow\n",
    "\n",
    "(can ignore the following if using AIF)\n",
    "* google-cloud\n",
    "* google-cloud-storage\n",
    "\n",
    "The [requirements.txt](https://github.com/dwiepert/mayo-w2v2/blob/main/requirements.txt) can be used to set up this environment. \n",
    "\n",
    "To access data stored in GCS on your local machine, you will need to additionally run\n",
    "\n",
    "```gcloud auth application-default login```\n",
    "\n",
    "```gcloud auth application-defaul set-quota-project PROJECT_NAME```"
   ]
  },
  {
   "cell_type": "code",
   "execution_count": 1,
   "metadata": {},
   "outputs": [],
   "source": [
    "#IMPORTS\n",
    "#built-in\n",
    "import argparse\n",
    "import json\n",
    "import numpy as np\n",
    "import os\n",
    "import pandas as pd\n",
    "import pickle\n",
    "import pyarrow\n",
    "\n",
    "#third-party\n",
    "import torch\n",
    "import torchvision\n",
    "from tqdm import tqdm\n",
    "\n",
    "from google.cloud import storage, bigquery\n",
    "from sklearn.metrics import roc_auc_score, roc_curve\n",
    "from torch.utils.data import  DataLoader\n",
    "\n",
    "#local\n",
    "from utilities.dataloader_utils import *\n",
    "from models.w2v2_models import *"
   ]
  },
  {
   "attachments": {},
   "cell_type": "markdown",
   "metadata": {},
   "source": [
    "## Upload/Download functions"
   ]
  },
  {
   "cell_type": "code",
   "execution_count": null,
   "metadata": {},
   "outputs": [],
   "source": [
    "def download_checkpoint(checkpoint, bucket):\n",
    "    print('Downloading checkpoint')\n",
    "    folder = os.path.basename(checkpoint)\n",
    "    if not os.path.exists(folder):\n",
    "        os.makedirs(folder)\n",
    "\n",
    "    blobs = bucket.list_blobs(prefix=checkpoint)\n",
    "    for blob in blobs:\n",
    "        destination_uri = '{}/{}'.format(folder, os.path.basename(blob.name))\n",
    "        if not os.path.exists(destination_uri):\n",
    "            blob.download_to_filename(destination_uri)\n",
    "    return folder"
   ]
  },
  {
   "cell_type": "code",
   "execution_count": null,
   "metadata": {},
   "outputs": [],
   "source": [
    "def download(gcs_path,outpath, bucket):\n",
    "    file = os.path.basename(gcs_path)\n",
    "    blob = bucket.blob(gcs_path)\n",
    "    destination_uri = '{}/{}'.format(outpath, file)\n",
    "    if not os.path.exists(destination_uri):\n",
    "        blob.download_to_filename(destination_uri)\n",
    "    return destination_uri"
   ]
  },
  {
   "cell_type": "code",
   "execution_count": null,
   "metadata": {},
   "outputs": [],
   "source": [
    "def upload(gcs_prefix, path, bucket):\n",
    "    assert bucket is not None, 'no bucket given for uploading'\n",
    "    if gcs_prefix is None:\n",
    "        gcs_prefix = os.path.dirname(path)\n",
    "    blob = bucket.blob(os.path.join(gcs_prefix, os.path.basename(path)))\n",
    "    blob.upload_from_filename(path)"
   ]
  },
  {
   "attachments": {},
   "cell_type": "markdown",
   "metadata": {},
   "source": [
    "## Arguments\n",
    "There are many mutable arguments when running w2v2. Please explore the different options and make sure all arguments are set as you would like. \n",
    "\n",
    "An important argument to consider is the model checkpoint. On AIF, it cannot load the model directly from HuggingFace. Instead, you can look at `gs://ml-e107-phi-shared-aif-us-p/m144443/checkpoints` for options. The default is `gs://ml-e107-phi-shared-aif-us-p/m144443/checkpoints/wav2vec2-base-960h`.\n"
   ]
  },
  {
   "cell_type": "code",
   "execution_count": 3,
   "metadata": {},
   "outputs": [],
   "source": [
    "parser = argparse.ArgumentParser()\n",
    "#Inputs\n",
    "parser.add_argument('-i','--prefix',default='speech_ai/speech_lake/', help='Input directory or location in google cloud storage bucket containing files to load')\n",
    "parser.add_argument(\"-s\", \"--study\", choices = ['r01_prelim','speech_poc_freeze_1', None], default='speech_poc_freeze_1', help=\"specify study name\")\n",
    "parser.add_argument(\"-d\", \"--data_split_root\", default='gs://ml-e107-phi-shared-aif-us-p/speech_ai/share/data_splits/amr_subject_dedup_594_train_100_test_binarized_v20220620', help=\"specify file path where datasplit is located. If you give a full file path to classification, an error will be thrown. On the other hand, evaluation and embedding expects a single .csv file.\")\n",
    "parser.add_argument('-l','--label_txt', default='/Users/m144443/Documents/GitHub/mayo-w2v2/labels.txt')\n",
    "parser.add_argument('--lib', default=False, type=bool, help=\"Specify whether to load using librosa as compared to torch audio\")\n",
    "#GCS\n",
    "parser.add_argument('-b','--bucket_name', default='ml-e107-phi-shared-aif-us-p', help=\"google cloud storage bucket name\")\n",
    "parser.add_argument('-p','--project_name', default='ml-mps-aif-afdgpet01-p-6827', help='google cloud platform project name')\n",
    "parser.add_argument('--cloud', default=True, type=bool, help=\"Specify whether to save everything to cloud\")\n",
    "#output\n",
    "parser.add_argument(\"--dataset\", default=None,type=str, help=\"When saving, the dataset arg is used to set file names. If you do not specify, it will assume the lowest directory from data_split_root\")\n",
    "parser.add_argument(\"-o\", \"--exp_dir\", default=\"./experiments\", help='specify LOCAL output directory')\n",
    "parser.add_argument('--cloud_dir', default='m144443/temp_out', type=str, help=\"if saving to the cloud, you can specify a specific place to save to in the CLOUD bucket\")\n",
    "#Mode specific\n",
    "parser.add_argument(\"-m\", \"--mode\", choices=['finetune','eval-only','extraction'], default='finetune')\n",
    "parser.add_argument(\"-mp\", \"--mdl_path\", default='gs://ml-e107-phi-shared-aif-us-p/m144443/temp_out/amr_subject_dedup_594_train_100_test_binarized_v20220620_epoch1_w2v2_mdl.pt', help='If running eval-only or extraction, you have the option to load a fine-tuned model by specifying the save path here. If passed a gs:// file, will download to local machine.')\n",
    "#Audio transforms\n",
    "parser.add_argument(\"--resample_rate\", default=16000,type=int, help='resample rate for audio files')\n",
    "parser.add_argument(\"--reduce\", default=True, type=bool, help=\"Specify whether to reduce to monochannel\")\n",
    "parser.add_argument(\"--clip_length\", default=160000, type=int, help=\"If truncating audio, specify clip length in # of frames. 0 = no truncation\")\n",
    "parser.add_argument(\"--trim\", default=True, type=int, help=\"trim silence\")\n",
    "#Model parameters\n",
    "parser.add_argument(\"-c\", \"--checkpoint\", default=\"gs://ml-e107-phi-shared-aif-us-p/m144443/checkpoints/wav2vec2-base-960h\", help=\"specify path to pre-trained model weight checkpoint\")\n",
    "parser.add_argument(\"-pm\", \"--pooling_mode\", default=\"mean\", help=\"specify method of pooling last hidden layer\", choices=['mean','sum','max'])\n",
    "parser.add_argument(\"-bs\", \"--batch_size\", type=int, default=8, help=\"specify batch size\")\n",
    "parser.add_argument(\"-nw\", \"--num_workers\", type=int, default=0, help=\"specify number of parallel jobs to run for data loader\")\n",
    "parser.add_argument(\"-lr\", \"--learning_rate\", type=float, default=0.0003, help=\"specify learning rate\")\n",
    "parser.add_argument(\"-e\", \"--epochs\", type=int, default=1, help=\"specify number of training epochs\")\n",
    "parser.add_argument(\"--optim\", type=str, default=\"adam\", help=\"training optimizer\", choices=[\"adam\"])\n",
    "parser.add_argument(\"--loss\", type=str, default=\"BCE\", help=\"the loss function for finetuning, depend on the task\", choices=[\"MSE\", \"BCE\"])\n",
    "parser.add_argument(\"--scheduler\", type=str, default=\"onecycle\", help=\"specify lr scheduler\", choices=[\"onecycle\", None])\n",
    "parser.add_argument(\"--max_lr\", type=float, default=0.01, help=\"specify max lr for lr scheduler\")\n",
    "#OTHER\n",
    "parser.add_argument(\"--debug\", default=True, type=bool)\n",
    "args = parser.parse_args()"
   ]
  },
  {
   "attachments": {},
   "cell_type": "markdown",
   "metadata": {},
   "source": [
    "## Setting up environment\n",
    "The first step is to make sure the GCS bucket is initialized if given a `bucket_name`. Additionally, the list of target labels must be set. There are a few other arguments to consider as well\n",
    "\n",
    "In the original implementation, the list must be given as a `.txt` file to pass through the command line. In this implementation, we will set it as a list."
   ]
  },
  {
   "cell_type": "code",
   "execution_count": 4,
   "metadata": {},
   "outputs": [
    {
     "name": "stdout",
     "output_type": "stream",
     "text": [
      "Cuda availability:  False\n"
     ]
    }
   ],
   "source": [
    "#CHECK GPU AVAILABLE\n",
    "print('Cuda availability: ', torch.cuda.is_available())"
   ]
  },
  {
   "cell_type": "code",
   "execution_count": 5,
   "metadata": {},
   "outputs": [
    {
     "name": "stderr",
     "output_type": "stream",
     "text": [
      "/Users/m144443/miniconda3/lib/python3.9/site-packages/google/auth/_default.py:78: UserWarning: Your application has authenticated using end user credentials from Google Cloud SDK without a quota project. You might receive a \"quota exceeded\" or \"API not enabled\" error. See the following page for troubleshooting: https://cloud.google.com/docs/authentication/adc-troubleshooting/user-creds. \n",
      "  warnings.warn(_CLOUD_SDK_CREDENTIALS_WARNING)\n",
      "/Users/m144443/miniconda3/lib/python3.9/site-packages/google/auth/_default.py:78: UserWarning: Your application has authenticated using end user credentials from Google Cloud SDK without a quota project. You might receive a \"quota exceeded\" or \"API not enabled\" error. See the following page for troubleshooting: https://cloud.google.com/docs/authentication/adc-troubleshooting/user-creds. \n",
      "  warnings.warn(_CLOUD_SDK_CREDENTIALS_WARNING)\n"
     ]
    }
   ],
   "source": [
    "# (1) Set up GCS\n",
    "if args.bucket_name is not None:\n",
    "    storage_client = storage.Client(project=args.project_name)\n",
    "    bq_client = bigquery.Client(project=args.project_name)\n",
    "    bucket = storage_client.bucket(args.bucket_name)\n",
    "else:\n",
    "    bucket = None"
   ]
  },
  {
   "cell_type": "code",
   "execution_count": 6,
   "metadata": {},
   "outputs": [],
   "source": [
    "# (2), check if given study or if the prefix is the full prefix.\n",
    "if args.study is not None:\n",
    "    args.prefix = os.path.join(args.prefix, args.study)\n"
   ]
  },
  {
   "cell_type": "code",
   "execution_count": null,
   "metadata": {},
   "outputs": [],
   "source": [
    "# (3) get dataset name\n",
    "if args.dataset is None:\n",
    "    if '.csv' in args.data_split_root:\n",
    "        args.dataset = '{}_{}'.format(os.path.basename(os.path.dirname(args.data_split_root)), os.path.basename(args.data_split_root[:-4]))\n",
    "    else:\n",
    "        args.dataset = os.path.basename(args.data_split_root)"
   ]
  },
  {
   "cell_type": "code",
   "execution_count": 7,
   "metadata": {},
   "outputs": [],
   "source": [
    "# (4) get target labels\n",
    "    #get list of target labels\n",
    "args.target_labels = ['distorted Cs',\n",
    "                        'slow rate',\n",
    "                        'irregular artic breakdowns',\n",
    "                        'rapid rate',\n",
    "                        'distorted V',\n",
    "                        'strained']\n",
    "\n",
    "args.n_class = len(args.target_labels)"
   ]
  },
  {
   "cell_type": "code",
   "execution_count": 8,
   "metadata": {},
   "outputs": [],
   "source": [
    " # (5) check if output directory exists, SHOULD NOT BE A GS:// path\n",
    "if not os.path.exists(args.exp_dir):\n",
    "    os.makedirs(args.exp_dir)"
   ]
  },
  {
   "cell_type": "code",
   "execution_count": null,
   "metadata": {},
   "outputs": [],
   "source": [
    "# (6) check that clip length has been set\n",
    "if args.clip_length == 0:\n",
    "    try: \n",
    "        assert args.batch_size == 1, 'Not currently compatible with different length wav files unless batch size has been set to 1'\n",
    "    except:\n",
    "        args.batch_size = 1"
   ]
  },
  {
   "cell_type": "code",
   "execution_count": null,
   "metadata": {},
   "outputs": [],
   "source": [
    "# (7) check if checkpoint is stored in gcs bucket\n",
    "if args.checkpoint[:5] =='gs://':\n",
    "    checkpoint = args.checkpoint[5:].replace(args.bucket_name,'')[1:]\n",
    "    checkpoint = download_checkpoint(checkpoint, bucket)\n",
    "    args.checkpoint = checkpoint\n"
   ]
  },
  {
   "cell_type": "code",
   "execution_count": null,
   "metadata": {},
   "outputs": [],
   "source": [
    "# (8) dump arguments\n",
    "args_path = \"%s/args.pkl\" % args.exp_dir\n",
    "with open(args_path, \"wb\") as f:\n",
    "    pickle.dump(args, f)\n",
    "#in case of error, everything is immediately uploaded to the bucket\n",
    "if args.cloud:\n",
    "    upload(args.cloud_dir, args_path, bucket)"
   ]
  },
  {
   "cell_type": "code",
   "execution_count": null,
   "metadata": {},
   "outputs": [],
   "source": [
    "#(9) add bucket to args\n",
    "args.bucket = bucket"
   ]
  },
  {
   "attachments": {},
   "cell_type": "markdown",
   "metadata": {},
   "source": [
    "## Finetuning\n",
    "\n",
    "We will start with the finetuning option and not include the option for only evaluating an already fine-tuned model (which is available in the full .py script)\n",
    "\n",
    "We load the data, set up simple WaveformDataset objets, and set up the dataloaders.\n",
    "\n",
    "The datasets and transforms are set up using functions from `utilities/dataloader_utils.py`. \n",
    "\n",
    "The dataloaders take in the datasets and batch size + number of workers.\n",
    "\n",
    "Please note that the resulting samples will be a dictionary with the keys `uid`, `waveform`, `targets`, `sample_rate`.\n",
    "\n",
    "We randomly sample the train.csv to get a validation dataset of 50 samples."
   ]
  },
  {
   "cell_type": "code",
   "execution_count": 9,
   "metadata": {},
   "outputs": [],
   "source": [
    "def load_traintest(args):\n",
    "    \"\"\"\n",
    "    Load the train and test data from a directory. Assumes the train and test data will exist in this directory under train.csv and test.csv\n",
    "    :param args: dict with all the argument values\n",
    "    :return diag_train, diag_test: dataframes with target labels selected\n",
    "    \"\"\"\n",
    "    train_path = f'{args.data_split_root}/train.csv'\n",
    "    test_path = f'{args.data_split_root}/test.csv'\n",
    "    #get data\n",
    "    train_df = pd.read_csv(train_path, index_col = 'uid')\n",
    "    test_df = pd.read_csv(test_path, index_col = 'uid')\n",
    "\n",
    "    #randomly sample to get validation set \n",
    "    val_df = train_df.sample(50)\n",
    "    train_df = train_df.drop(val_df.index)\n",
    "\n",
    "    #save validation set\n",
    "    val_path = os.path.join(args.exp_dir, 'validation.csv')\n",
    "    val_df.to_csv(val_path, index=True)\n",
    "\n",
    "    if args.cloud:\n",
    "        upload(args.cloud_dir, val_path, args.bucket)\n",
    "\n",
    "    #get min number of columns containing all the target label columns\n",
    "    diag_train = train_df[args.target_labels]\n",
    "    diag_test = test_df[args.target_labels]\n",
    "    diag_val = val_df[args.target_labels]\n",
    "    return diag_train, diag_val, diag_test"
   ]
  },
  {
   "cell_type": "code",
   "execution_count": 10,
   "metadata": {},
   "outputs": [],
   "source": [
    "def get_transform(args):\n",
    "    \"\"\"\n",
    "    Set up pre-processing transform for raw samples \n",
    "    Loads data, reduces to 1 channel, downsamples, trims silence, truncate(?) and run feature extraction\n",
    "    :param args: dict with all the argument values\n",
    "    return: transform: transforms object \n",
    "    \"\"\"\n",
    "    waveform_loader = UidToWaveform(prefix = args.prefix, bucket=args.bucket, lib=args.lib)\n",
    "    transform_list = [waveform_loader]\n",
    "    if args.reduce:\n",
    "        channel_sum = lambda w: torch.sum(w, axis = 0).unsqueeze(0)\n",
    "        mono_tfm = ToMonophonic(reduce_fn = channel_sum)\n",
    "        transform_list.append(mono_tfm)\n",
    "    if args.resample_rate != 0: #16000\n",
    "        downsample_tfm = Resample(args.resample_rate)\n",
    "        transform_list.append(downsample_tfm)\n",
    "    if args.trim:\n",
    "        trim_tfm = TrimSilence()\n",
    "        transform_list.append(trim_tfm)\n",
    "    if args.clip_length != 0: #160000\n",
    "        truncate_tfm = Truncate(length = args.clip_length)\n",
    "        transform_list.append(truncate_tfm)\n",
    "\n",
    "    tensor_tfm = ToTensor()\n",
    "    transform_list.append(tensor_tfm)\n",
    "    feature_tfm = Wav2VecFeatureExtractor(args.checkpoint)\n",
    "    transform_list.append(feature_tfm)\n",
    "    transform = torchvision.transforms.Compose(transform_list)\n",
    "    return transform"
   ]
  },
  {
   "cell_type": "code",
   "execution_count": 11,
   "metadata": {},
   "outputs": [
    {
     "name": "stderr",
     "output_type": "stream",
     "text": [
      "/Users/m144443/miniconda3/lib/python3.9/site-packages/google/auth/_default.py:78: UserWarning: Your application has authenticated using end user credentials from Google Cloud SDK without a quota project. You might receive a \"quota exceeded\" or \"API not enabled\" error. See the following page for troubleshooting: https://cloud.google.com/docs/authentication/adc-troubleshooting/user-creds. \n",
      "  warnings.warn(_CLOUD_SDK_CREDENTIALS_WARNING)\n"
     ]
    },
    {
     "name": "stdout",
     "output_type": "stream",
     "text": [
      "100\n"
     ]
    }
   ],
   "source": [
    "print('Running finetuning: ')\n",
    "# (1) load data\n",
    "assert '.csv' not in args.data_split_root, f'May have given a full file path, please confirm this is a directory: {args.data_split_root}'\n",
    "diag_train, diag_val, diag_test = load_traintest(args)\n"
   ]
  },
  {
   "cell_type": "code",
   "execution_count": null,
   "metadata": {},
   "outputs": [],
   "source": [
    "if args.debug:\n",
    "    diag_train = diag_train.iloc[0:8,:]\n",
    "    diag_val = diag_val.iloc[0:8,:]\n",
    "    diag_test = diag_test.iloc[0:8,:]"
   ]
  },
  {
   "cell_type": "code",
   "execution_count": 12,
   "metadata": {},
   "outputs": [],
   "source": [
    "# (2) get data transforms    \n",
    "transform = get_transform(args)"
   ]
  },
  {
   "cell_type": "code",
   "execution_count": 13,
   "metadata": {},
   "outputs": [],
   "source": [
    "# (3) set up datasets and dataloaders\n",
    "dataset_train = WaveformDataset(diag_train, target_labels = args.target_labels, transform = transform)\n",
    "dataset_val = WaveformDataset(diag_val, target_labels = args.target_labels, transform = transform)\n",
    "dataset_test = WaveformDataset(diag_test, target_labels = args.target_labels, transform = transform)"
   ]
  },
  {
   "cell_type": "code",
   "execution_count": 14,
   "metadata": {},
   "outputs": [],
   "source": [
    "dataloader_train = DataLoader(dataset_train, batch_size = args.batch_size, shuffle = True, num_workers = args.num_workers)\n",
    "dataloader_val= DataLoader(dataset_val, batch_size = 1, shuffle = False, num_workers = args.num_workers)\n",
    "dataloader_test= DataLoader(dataset_test, batch_size = args.batch_size, shuffle = False, num_workers = args.num_workers)\n",
    "#dataloader_test = DataLoader(dataset_test, batch_size = len(diag_test), shuffle = False, num_workers = args.num_workers)"
   ]
  },
  {
   "cell_type": "code",
   "execution_count": 15,
   "metadata": {},
   "outputs": [],
   "source": [
    "#TODO: TEST WHETHER YOU CAN LOAD A BATCH\n",
    "batch = next(iter(dataloader_train))"
   ]
  },
  {
   "attachments": {},
   "cell_type": "markdown",
   "metadata": {},
   "source": [
    "### Set up the model\n",
    "\n",
    "Set up the model using classes from `w2v2_models.py`. This includes a wrapper for a speech classification model that adds on a classification head with a dense layer, ReLU, dropout, and a final linear layer"
   ]
  },
  {
   "cell_type": "code",
   "execution_count": 20,
   "metadata": {},
   "outputs": [
    {
     "name": "stderr",
     "output_type": "stream",
     "text": [
      "Some weights of the model checkpoint at facebook/wav2vec2-base-960h were not used when initializing Wav2Vec2ForSequenceClassification: ['lm_head.bias', 'lm_head.weight']\n",
      "- This IS expected if you are initializing Wav2Vec2ForSequenceClassification from the checkpoint of a model trained on another task or with another architecture (e.g. initializing a BertForSequenceClassification model from a BertForPreTraining model).\n",
      "- This IS NOT expected if you are initializing Wav2Vec2ForSequenceClassification from the checkpoint of a model that you expect to be exactly identical (initializing a BertForSequenceClassification model from a BertForSequenceClassification model).\n",
      "Some weights of Wav2Vec2ForSequenceClassification were not initialized from the model checkpoint at facebook/wav2vec2-base-960h and are newly initialized: ['classifier.bias', 'projector.bias', 'wav2vec2.masked_spec_embed', 'classifier.weight', 'projector.weight']\n",
      "You should probably TRAIN this model on a down-stream task to be able to use it for predictions and inference.\n"
     ]
    }
   ],
   "source": [
    "# (4) initialize model\n",
    "model = Wav2Vec2ForSpeechClassification(args.checkpoint, args.pooling_mode, args.n_class)"
   ]
  },
  {
   "attachments": {},
   "cell_type": "markdown",
   "metadata": {},
   "source": [
    "### Run training, evaluation, metrics\n",
    "\n",
    "Run the training loop, evaluate the test set, and get AUCs for the predictions from the models"
   ]
  },
  {
   "cell_type": "code",
   "execution_count": 21,
   "metadata": {},
   "outputs": [],
   "source": [
    "def train_loop(args, model, dataloader_train, dataloader_val=None):\n",
    "    \"\"\"\n",
    "    Training loop for finetuning the w2v2 classification head. \n",
    "    :param args: dict with all the argument values\n",
    "    :param model: W2V2 model\n",
    "    :param dataloader_train: dataloader object with training data\n",
    "    :param dataloader_val: dataloader object with validation data\n",
    "    :return model: fine-tuned w2v2 model\n",
    "    \"\"\"\n",
    "    print('Training start')\n",
    "    #send to gpu\n",
    "    device = torch.device(\"cuda\" if torch.cuda.is_available() else \"cpu\")\n",
    "    model = model.to(device)\n",
    "    #loss\n",
    "    if args.loss == 'MSE':\n",
    "        criterion = torch.nn.MSELoss()\n",
    "    elif args.loss == 'BCE':\n",
    "        criterion = torch.nn.BCEWithLogitsLoss()\n",
    "    else:\n",
    "        raise ValueError('MSE must be given for loss parameter')\n",
    "    #optimizer\n",
    "    if args.optim == 'adam':\n",
    "        optim = torch.optim.Adam([p for p in model.parameters() if p.requires_grad],lr=args.learning_rate)\n",
    "    else:\n",
    "        raise ValueError('adam must be given for optimizer parameter')\n",
    "    \n",
    "    if args.scheduler == 'onecycle':\n",
    "        scheduler = torch.optim.lr_scheduler.OneCycleLR(optim, max_lr=args.max_lr, steps_per_epoch=len(dataloader_train), epochs=args.epochs)\n",
    "    else:\n",
    "        scheduler = None\n",
    "    \n",
    "    #train\n",
    "    for e in range(args.epochs):\n",
    "        training_loss = list()\n",
    "        #t0 = time.time()\n",
    "        model.train()\n",
    "        for batch in tqdm(dataloader_train):\n",
    "            x = torch.squeeze(batch['waveform'], dim=1)\n",
    "            targets = batch['targets']\n",
    "            x, targets = x.to(device), targets.to(device)\n",
    "            optim.zero_grad()\n",
    "            o = model(x)\n",
    "            loss = criterion(o, targets)\n",
    "            loss.backward()\n",
    "            optim.step()\n",
    "            if scheduler is not None:\n",
    "                scheduler.step()\n",
    "            loss_item = loss.item()\n",
    "            training_loss.append(loss_item)\n",
    "\n",
    "        if e % 10 == 0:\n",
    "            #SET UP LOGS\n",
    "            if scheduler is not None:\n",
    "                lr = scheduler.get_last_lr()\n",
    "            else:\n",
    "                lr = args.learning_rate\n",
    "            logs = {'epoch': e, 'optim':args.optim, 'loss_fn': args.loss, 'lr': lr}\n",
    "    \n",
    "            logs['training_loss_list'] = training_loss\n",
    "            training_loss = np.array(training_loss)\n",
    "            logs['running_loss'] = np.sum(training_loss)\n",
    "            logs['training_loss'] = np.mean(training_loss)\n",
    "\n",
    "            print('RUNNING LOSS', e, np.sum(training_loss) )\n",
    "            print(f'Training loss: {np.mean(training_loss)}')\n",
    "\n",
    "            if dataloader_val is not None:\n",
    "                print(\"Validation start\")\n",
    "                validation_loss = val_loop(model, criterion, dataloader_val)\n",
    "\n",
    "                logs['val_loss_list'] = validation_loss\n",
    "                validation_loss = np.array(validation_loss)\n",
    "                logs['val_running_loss'] = np.sum(validation_loss)\n",
    "                logs['val_loss'] = np.mean(validation_loss)\n",
    "                \n",
    "                print('RUNNING VALIDATION LOSS',e, np.sum(validation_loss) )\n",
    "                print(f'Validation loss: {np.mean(validation_loss)}')\n",
    "            \n",
    "            #SAVE LOGS\n",
    "            json_string = json.dumps(logs)\n",
    "            logs_path = os.path.join(args.exp_dir, 'logs_epoch{}.json'.format(e))\n",
    "            with open(logs_path, 'w') as outfile:\n",
    "                json.dump(json_string, outfile)\n",
    "            \n",
    "            #SAVE CURRENT MODEL\n",
    "            mdl_path = os.path.join(args.exp_dir, 'w2v2_mdl_epoch{}.pt'.format(e))\n",
    "            torch.save(model.state_dict(), mdl_path)\n",
    "            \n",
    "            if args.cloud:\n",
    "                upload(args.cloud_dir, logs_path, args.bucket)\n",
    "                #upload_from_memory(model.state_dict(), args.cloud_dir, mdl_path, args.bucket)\n",
    "                upload(args.cloud_dir, mdl_path, args.bucket)\n",
    "\n",
    "    print('Training finished')\n",
    "    mdl_path = os.path.join(args.exp_dir, '{}_epoch{}_w2v2_mdl.pt'.format(args.dataset,args.epochs))\n",
    "    torch.save(model.state_dict(), mdl_path)\n",
    "\n",
    "    if args.cloud:\n",
    "        upload(args.cloud_dir, mdl_path, args.bucket)\n",
    "\n",
    "    return model"
   ]
  },
  {
   "cell_type": "code",
   "execution_count": null,
   "metadata": {},
   "outputs": [],
   "source": [
    "def val_loop(model, criterion, dataloader_val):\n",
    "    validation_loss = list()\n",
    "    device = torch.device(\"cuda\" if torch.cuda.is_available() else \"cpu\")\n",
    "    model = model.to(device)\n",
    "    with torch.no_grad():\n",
    "        model.eval()\n",
    "        for batch in tqdm(dataloader_val):\n",
    "            x = torch.squeeze(batch['waveform'], dim=1)\n",
    "            targets = batch['targets']\n",
    "            x, targets = x.to(device), targets.to(device)\n",
    "            o = model(x)\n",
    "            val_loss = criterion(o, targets)\n",
    "            validation_loss.append(val_loss.item())\n",
    "\n",
    "    return validation_loss"
   ]
  },
  {
   "cell_type": "code",
   "execution_count": null,
   "metadata": {},
   "outputs": [],
   "source": [
    "def eval_loop(args, model, dataloader_eval):\n",
    "    \"\"\"\n",
    "    Start model evaluation\n",
    "    :param args: dict with all the argument values\n",
    "    :param model: W2V2 model\n",
    "    :param dataloader_eval: dataloader object with evaluation data\n",
    "    :return preds: model predictions\n",
    "    :return targets: model targets (actual values)\n",
    "    \"\"\"\n",
    "    print('Evaluation start')\n",
    "    device = torch.device(\"cuda\" if torch.cuda.is_available() else \"cpu\")\n",
    "    outputs = []\n",
    "    t = []\n",
    "    model = model.to(device)\n",
    "    with torch.no_grad():\n",
    "        model.eval()\n",
    "        for batch in tqdm(dataloader_eval):\n",
    "            x = torch.squeeze(batch['waveform'], dim=1)\n",
    "            x = x.to(device)\n",
    "            targets = batch['targets']\n",
    "            targets = targets.to(device)\n",
    "            o = model(x)\n",
    "            outputs.append(o)\n",
    "            t.append(targets)\n",
    "\n",
    "    outputs = torch.cat(outputs).cpu().detach()\n",
    "    t = torch.cat(t).cpu().detach()\n",
    "    # SAVE PREDICTIONS AND TARGETS \n",
    "    pred_path = os.path.join(args.exp_dir, 'eval_predictions.pt')\n",
    "    target_path = os.path.join(args.exp_dir, 'eval_targets.pt')\n",
    "    torch.save(outputs, pred_path)\n",
    "    torch.save(t, target_path)\n",
    "\n",
    "    if args.cloud:\n",
    "        upload(args.cloud_dir, pred_path, args.bucket)\n",
    "        upload(args.cloud_dir, target_path, args.bucket)\n",
    "\n",
    "    return outputs, t"
   ]
  },
  {
   "cell_type": "code",
   "execution_count": null,
   "metadata": {},
   "outputs": [],
   "source": [
    "# (5) start fine-tuning classification\n",
    "model = train_loop(args, model, dataloader_train, dataloader_val)\n"
   ]
  },
  {
   "cell_type": "code",
   "execution_count": null,
   "metadata": {},
   "outputs": [],
   "source": [
    "# (6) start evaluating\n",
    "preds, targets = eval_loop(args, model, dataloader_test)"
   ]
  },
  {
   "cell_type": "code",
   "execution_count": null,
   "metadata": {},
   "outputs": [],
   "source": [
    "def metrics(args, preds, targets):\n",
    "    \"\"\"\n",
    "    Get AUC scores, doesn't return, just saves the metrics to a csv\n",
    "    :param args: dict with all the argument values\n",
    "    :param preds: model predictions\n",
    "    :param targets: model targets (actual values)\n",
    "    \"\"\"\n",
    "    #get AUC score and all data for ROC curve\n",
    "    metrics = {}\n",
    "    pred_mat=torch.sigmoid(preds).numpy()\n",
    "    target_mat=targets.numpy()\n",
    "    aucs=roc_auc_score(target_mat, pred_mat, average = None)\n",
    "    print(aucs)\n",
    "    data = pd.DataFrame({'Label':args.target_labels, 'AUC':aucs})\n",
    "    data.to_csv(os.path.join(args.exp_dir, 'aucs.csv'), index=False)\n",
    "    if args.cloud:\n",
    "        upload(args.cloud_dir, os.path.join(args.exp_dir, 'aucs.csv'), args.bucket)"
   ]
  },
  {
   "cell_type": "code",
   "execution_count": null,
   "metadata": {},
   "outputs": [],
   "source": [
    "# (7) performance metrics\n",
    "metrics(args, preds, targets)"
   ]
  },
  {
   "attachments": {},
   "cell_type": "markdown",
   "metadata": {},
   "source": [
    "## Get Embeddings\n",
    "\n",
    "Embedding extraction is a slightly different process. We instead load in one csv file, initialize and load a finetuned model, then run the embedding loop which extracts the last hidden layer (which functions as the embedding of dim 768)"
   ]
  },
  {
   "cell_type": "code",
   "execution_count": null,
   "metadata": {},
   "outputs": [],
   "source": [
    "\n",
    "args.data_split_root = 'gs://ml-e107-phi-shared-aif-us-p/speech_ai/share/data_splits/amr_subject_dedup_594_train_100_test_binarized_v20220620/test.csv'\n",
    "args.mode = 'extraction'\n",
    "#args.mdl_path = None #TODO: must set to a finetuned model if you want it to load and get embeddings in that way."
   ]
  },
  {
   "cell_type": "code",
   "execution_count": null,
   "metadata": {},
   "outputs": [],
   "source": [
    "print('Running Embedding Extraction: ')\n",
    "\n",
    "# (1) load data to get embeddings for\n",
    "assert '.csv' in args.data_split_root, f'A csv file is necessary for embedding extraction. Please make sure this is a full file path: {args.data_split_root}'\n",
    "df = pd.read_csv(args.data_split_root, index_col = 'uid')\n",
    "annotations_df = df[args.target_labels]\n",
    "\n",
    "if args.debug:\n",
    "    annotations_df = annotations_df.iloc[0:8,:]"
   ]
  },
  {
   "cell_type": "code",
   "execution_count": null,
   "metadata": {},
   "outputs": [],
   "source": [
    "# (2) get transforms\n",
    "transform = get_transform(args)"
   ]
  },
  {
   "cell_type": "code",
   "execution_count": null,
   "metadata": {},
   "outputs": [],
   "source": [
    "# (3) set up dataloaders\n",
    "waveform_dataset = WaveformDataset(annotations_df = annotations_df, target_labels = args.target_labels, transform = transform)\n",
    "dataloader = DataLoader(waveform_dataset, batch_size=args.batch_size, shuffle=False, num_workers=args.num_workers)"
   ]
  },
  {
   "attachments": {},
   "cell_type": "markdown",
   "metadata": {},
   "source": [
    "Note that the embedding model requires a checkpoint to a pretrained model path, a pooling mode selection, and a path to a finetuned model"
   ]
  },
  {
   "cell_type": "code",
   "execution_count": null,
   "metadata": {},
   "outputs": [],
   "source": [
    "# (4) set up embedding model\n",
    "if args.mdl_path[:5] =='gs://':\n",
    "    mdl_path = args.mdl_path[5:].replace(args.bucket_name,'')[1:]\n",
    "    args.mdl_path = download(mdl_path, args.exp_dir, args.bucket)\n",
    "model = Wav2Vec2ForEmbeddingExtraction(args.checkpoint, args.pooling_mode, args.mdl_path)"
   ]
  },
  {
   "cell_type": "code",
   "execution_count": null,
   "metadata": {},
   "outputs": [],
   "source": [
    "def embedding_loop(model, dataloader):\n",
    "    \"\"\"\n",
    "    Run a specific subtype of evaluation for getting embeddings.\n",
    "    :param args: dict with all the argument values\n",
    "    :param model: W2V2 model\n",
    "    :param dataloader_eval: dataloader object with data to get embeddings for\n",
    "    :return embeddings: an np array containing the embeddings\n",
    "    \"\"\"\n",
    "    print('Getting embeddings')\n",
    "    embeddings = np.array([])\n",
    "\n",
    "    # send to gpu\n",
    "    device = torch.device(\"cuda:0\" if torch.cuda.is_available() else \"cpu\")\n",
    "    model = model.to(device)\n",
    "\n",
    "    with torch.no_grad():\n",
    "        model.eval()\n",
    "        for batch in tqdm(dataloader):\n",
    "            x = torch.squeeze(batch['waveform'], dim=1)\n",
    "            x = x.to(device)\n",
    "            e = model(x)\n",
    "            e = e.cpu().numpy()\n",
    "            if embeddings.size == 0:\n",
    "                embeddings = e\n",
    "            else:\n",
    "                embeddings = np.append(embeddings, e, axis=0)\n",
    "        \n",
    "    return embeddings\n"
   ]
  },
  {
   "cell_type": "code",
   "execution_count": null,
   "metadata": {},
   "outputs": [],
   "source": [
    "# (5) get embeddings\n",
    "embeddings = embedding_loop(model, dataloader)"
   ]
  },
  {
   "cell_type": "code",
   "execution_count": null,
   "metadata": {},
   "outputs": [],
   "source": [
    "df_embed = pd.DataFrame([[r] for r in embeddings], columns = ['embedding'], index=annotations_df.index)\n"
   ]
  },
  {
   "attachments": {},
   "cell_type": "markdown",
   "metadata": {},
   "source": [
    "### Save embeddings"
   ]
  },
  {
   "cell_type": "code",
   "execution_count": null,
   "metadata": {},
   "outputs": [],
   "source": [
    "try:\n",
    "    pqt_path = '{}/{}_w2v2_embeddings.pqt'.format(args.exp_dir, args.dataset)\n",
    "    df_embed.to_parquet(path=pqt_path, index=True, engine='pyarrow') #TODO: fix\n",
    "\n",
    "    if args.cloud:\n",
    "        upload(args.cloud_dir, pqt_path, args.bucket)\n",
    "except:\n",
    "    print('Unable to save as pqt, saving instead as csv')\n",
    "    csv_path = '{}/{}_w2v2_embeddings.csv'.format(args.exp_dir, args.dataset)\n",
    "    df_embed.to_csv(csv_path, index=True)\n",
    "\n",
    "    if args.cloud:\n",
    "        upload(args.cloud_dir, csv_path, args.bucket)"
   ]
  }
 ],
 "metadata": {
  "kernelspec": {
   "display_name": "base",
   "language": "python",
   "name": "python3"
  },
  "language_info": {
   "codemirror_mode": {
    "name": "ipython",
    "version": 3
   },
   "file_extension": ".py",
   "mimetype": "text/x-python",
   "name": "python",
   "nbconvert_exporter": "python",
   "pygments_lexer": "ipython3",
   "version": "3.9.5"
  },
  "orig_nbformat": 4
 },
 "nbformat": 4,
 "nbformat_minor": 2
}
